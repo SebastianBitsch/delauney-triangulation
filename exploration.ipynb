{
 "cells": [
  {
   "cell_type": "code",
   "execution_count": 1478,
   "metadata": {},
   "outputs": [],
   "source": [
    "import numpy as np\n",
    "import matplotlib.pyplot as plt\n",
    "from numpy.linalg import norm"
   ]
  },
  {
   "cell_type": "markdown",
   "metadata": {},
   "source": [
    "#### 0. Initialize"
   ]
  },
  {
   "cell_type": "code",
   "execution_count": 1479,
   "metadata": {},
   "outputs": [],
   "source": [
    "N = 20\n",
    "x = np.random.rand(N,2)"
   ]
  },
  {
   "cell_type": "code",
   "execution_count": 1480,
   "metadata": {},
   "outputs": [
    {
     "data": {
      "text/plain": [
       "<matplotlib.collections.PathCollection at 0x14708e520>"
      ]
     },
     "execution_count": 1480,
     "metadata": {},
     "output_type": "execute_result"
    },
    {
     "data": {
      "image/png": "[encoded data removed]",
      "text/plain": [
       "<Figure size 432x288 with 1 Axes>"
      ]
     },
     "metadata": {
      "needs_background": "light"
     },
     "output_type": "display_data"
    }
   ],
   "source": [
    "plt.scatter(x[:,0],x[:,1])"
   ]
  },
  {
   "cell_type": "code",
   "execution_count": 1481,
   "metadata": {},
   "outputs": [],
   "source": [
    "def sort_points(x: list[list], x0: list):\n",
    "    \"\"\" Sort points by distance to a seed point x0, by the second order euclidean dist |xi - x0|**2\"\"\"\n",
    "    return sorted(x, key=lambda xi: np.linalg.norm(xi-x0,2))"
   ]
  },
  {
   "cell_type": "code",
   "execution_count": 1482,
   "metadata": {},
   "outputs": [],
   "source": [
    "def circle_center(A,B,C) -> list[float]:\n",
    "    D = 2*(A[0]*(B[1]-C[1]) + B[0]*(C[1]-A[1]) + C[0]*(A[1]-B[1]))\n",
    "    Ux = (A[0]**2+A[1]**2)*(B[1]-C[1])+(B[0]**2+B[1]**2)*(C[1]-A[1])+(C[0]**2+C[1]**2)*(A[1]-B[1])\n",
    "    Uy = (A[0]**2+A[1]**2)*(C[0]-B[0])+(B[0]**2+B[1]**2)*(A[0]-C[0])+(C[0]**2+C[1]**2)*(B[0]-A[0])\n",
    "    return np.array([Ux/D,Uy/D])"
   ]
  },
  {
   "cell_type": "code",
   "execution_count": 1483,
   "metadata": {},
   "outputs": [],
   "source": [
    "def angle(point: list[float], center: list[float]) -> float:\n",
    "    \"\"\" Returns the angle in degrees between a point and a center\"\"\"\n",
    "    return (np.arctan2(point[1]-center[1], point[0]-center[0]) * 180/np.pi + 360) % 360"
   ]
  },
  {
   "cell_type": "code",
   "execution_count": 1508,
   "metadata": {},
   "outputs": [],
   "source": [
    "\n",
    "def get_closest_point(x, x0, xj):\n",
    "    \"\"\"\n",
    "    Find the point xk that creates the smallest circum-circle with x0 and xj and record the cetner of the circum-circle C.\n",
    "    Return x, xj and C\n",
    "    \"\"\"\n",
    "    # Running variables\n",
    "    A_min = np.Infinity\n",
    "    A_min_index = None\n",
    "\n",
    "    # Loop through all points\n",
    "    for i, xk in enumerate(x):\n",
    "        a = np.linalg.norm(xk - x0)\n",
    "        b = np.linalg.norm(x0 - xj)\n",
    "        c = np.linalg.norm(xj - x0)\n",
    "        s = (a+b+c) * 0.5\n",
    "        A = (np.pi * 0.25) * s**2\n",
    "        if A < A_min:\n",
    "            A_min = A\n",
    "            A_min_index = i\n",
    "\n",
    "    # Update x and declare xk and C\n",
    "    xk = x[A_min_index]\n",
    "    x = np.delete(x, A_min_index, 0)\n",
    "    C = circle_center(x0,xj,xk)\n",
    "    return (x,xk,C)"
   ]
  },
  {
   "cell_type": "code",
   "execution_count": 1484,
   "metadata": {},
   "outputs": [],
   "source": [
    "def plot_state(points: list = None, edges: list = None, triangles: list = None, circles: list = None, plot_size: int = 10):\n",
    "    plt.figure(figsize=[plot_size, plot_size])\n",
    "    plt.axes([0.1, 0.1, 0.8, 0.8], xlim=(0, 1), ylim=(0, 1))\n",
    "\n",
    "    if points:\n",
    "        plt.scatter(x=x[:,0],y=x[:,1])\n",
    "    \n",
    "    if edges:\n",
    "        for edge in edges:\n",
    "            plt.plot([edge[0][0],edge[1][0]],[edge[0][1],edge[1][1]],\"g-\")\n",
    "    \n",
    "    if triangles:\n",
    "        for tri in triangles:\n",
    "            t1 = plt.Polygon(tri,fill=False)\n",
    "            plt.gca().add_patch(t1)\n",
    "\n",
    "    if circles:\n",
    "        for circ in circles:\n",
    "            points_whole_ax = plot_size * 0.8 * 72    # 1 point = dpi / 72 pixels\n",
    "            R = np.linalg.norm(circ[0])\n",
    "            points_radius = 2 * R / 1.0 * points_whole_ax\n",
    "            plt.scatter(circ[1], circ[2], s=points_radius**2, facecolors='none', edgecolors='blue')"
   ]
  },
  {
   "cell_type": "markdown",
   "metadata": {},
   "source": [
    "#### 1. Select a seed point"
   ]
  },
  {
   "cell_type": "code",
   "execution_count": 1485,
   "metadata": {},
   "outputs": [],
   "source": [
    "x0 = x[0]\n",
    "x = np.delete(x,0,0)"
   ]
  },
  {
   "cell_type": "markdown",
   "metadata": {},
   "source": [
    "#### 2. Sort accoring to |xi - x0|^2"
   ]
  },
  {
   "cell_type": "code",
   "execution_count": 1486,
   "metadata": {},
   "outputs": [],
   "source": [
    "# Find the closest point to x0\n",
    "x = sort_points(x,x0)"
   ]
  },
  {
   "cell_type": "markdown",
   "metadata": {},
   "source": [
    "#### 3. Find the point xj cloests to x0"
   ]
  },
  {
   "cell_type": "code",
   "execution_count": 1487,
   "metadata": {},
   "outputs": [],
   "source": [
    "# closest point\n",
    "xj = x[0]\n",
    "x = np.delete(x,0,0)"
   ]
  },
  {
   "cell_type": "markdown",
   "metadata": {},
   "source": [
    "#### 4. Find the point xk that creates the smallest circum-circle with x0 and xj and record the cetner of the circum-circle C"
   ]
  },
  {
   "cell_type": "code",
   "execution_count": 1488,
   "metadata": {},
   "outputs": [],
   "source": [
    "# Running variables\n",
    "A_min = np.Infinity\n",
    "A_min_index = None\n",
    "\n",
    "# Loop through all points\n",
    "for i, xk in enumerate(x):\n",
    "    a = np.linalg.norm(xk - x0)\n",
    "    b = np.linalg.norm(x0 - xj)\n",
    "    c = np.linalg.norm(xj - x0)\n",
    "    s = (a+b+c) * 0.5\n",
    "    A = (np.pi * 0.25) * s**2\n",
    "    if A < A_min:\n",
    "        A_min = A\n",
    "        A_min_index = i\n",
    "\n",
    "\n",
    "# Update x and declare xk and C\n",
    "xk = x[A_min_index]\n",
    "x = np.delete(x, A_min_index, 0)\n",
    "C = circle_center(x0,xj,xk)"
   ]
  },
  {
   "cell_type": "markdown",
   "metadata": {},
   "source": [
    "#### 4.1 Visualize / check everything is working"
   ]
  },
  {
   "cell_type": "code",
   "execution_count": 1489,
   "metadata": {},
   "outputs": [
    {
     "data": {
      "text/plain": [
       "<matplotlib.collections.PathCollection at 0x146f028b0>"
      ]
     },
     "execution_count": 1489,
     "metadata": {},
     "output_type": "execute_result"
    },
    {
     "data": {
      "image/png": "[encoded data removed]",
      "text/plain": [
       "<Figure size 360x360 with 1 Axes>"
      ]
     },
     "metadata": {
      "needs_background": "light"
     },
     "output_type": "display_data"
    }
   ],
   "source": [
    "plt.figure(figsize=[5, 5])\n",
    "plt.axes([0.1, 0.1, 0.8, 0.8], xlim=(0, 1), ylim=(0, 1))\n",
    "plt.scatter(x=x[:,0],y=x[:,1])\n",
    "plt.scatter(x=[x0[0]],y=[x0[1]],label=\"x0\")\n",
    "plt.scatter(x=[xj[0]],y=[xj[1]],label=\"xj\")\n",
    "plt.scatter(x=[xk[0]],y=[xk[1]],label=\"xk\")\n",
    "plt.legend()\n",
    "\n",
    "points_whole_ax = 5 * 0.8 *72    # 1 point = dpi / 72 pixels\n",
    "R = np.linalg.norm(x0-C)\n",
    "points_radius = 2 * R / 1.0 * points_whole_ax\n",
    "plt.scatter(C[0], C[1], s=points_radius**2, facecolors='none', edgecolors='blue')\n"
   ]
  },
  {
   "cell_type": "markdown",
   "metadata": {},
   "source": [
    "#### 5. Order points [x0, xj, xk] to give a right handed system: this is the initial seed convex hull"
   ]
  },
  {
   "cell_type": "code",
   "execution_count": 1490,
   "metadata": {},
   "outputs": [],
   "source": [
    "triangles = []\n",
    "tri = sorted([x0,xk,xj], key=lambda x: angle(x,C))\n",
    "triangles.append(tri)"
   ]
  },
  {
   "cell_type": "markdown",
   "metadata": {},
   "source": [
    "#### 6. Resort the remaining points according to |xi - C|^2 to give points si"
   ]
  },
  {
   "cell_type": "code",
   "execution_count": 1491,
   "metadata": {},
   "outputs": [],
   "source": [
    "# Find the closest point to C\n",
    "si = sort_points(x,C)"
   ]
  },
  {
   "cell_type": "markdown",
   "metadata": {},
   "source": [
    "#### 7. Sequentially add the points si to the propogating 2D convex hull that is seeded with the triangle formed from [x0, xj, xk]. As a new point is added the faces of the 2D-that are visible to it form a a new triangles"
   ]
  },
  {
   "cell_type": "code",
   "execution_count": 1492,
   "metadata": {},
   "outputs": [
    {
     "name": "stdout",
     "output_type": "stream",
     "text": [
      "[array([0.51762495, 0.95632341]), array([0.35177789, 0.99616756]), array([0.16956517, 0.88345505])]\n",
      "[42.426945130228944, 75.63090460494209, 130.73243239107126]\n"
     ]
    },
    {
     "data": {
      "image/png": "[encoded data removed]",
      "text/plain": [
       "<Figure size 360x360 with 1 Axes>"
      ]
     },
     "metadata": {
      "needs_background": "light"
     },
     "output_type": "display_data"
    }
   ],
   "source": [
    "plt.figure(figsize=[5, 5])\n",
    "plt.axes([0.1, 0.1, 0.8, 0.8], xlim=(0, 1), ylim=(0, 1))\n",
    "plt.scatter(x=x[:,0],y=x[:,1])\n",
    "plt.scatter(x=[x0[0]],y=[x0[1]],label=\"x0\")\n",
    "plt.scatter(x=[xj[0]],y=[xj[1]],label=\"xj\")\n",
    "plt.scatter(x=[xk[0]],y=[xk[1]],label=\"xk\")\n",
    "plt.legend()\n",
    "\n",
    "points_whole_ax = 5 * 0.8 *72    # 1 point = dpi / 72 pixels\n",
    "R = np.linalg.norm(x0-C)\n",
    "points_radius = 2 * R / 1.0 * points_whole_ax\n",
    "plt.scatter(C[0], C[1], s=points_radius**2, facecolors='none', edgecolors='blue')\n",
    "t1 = plt.Polygon(triangles[0],fill=False)\n",
    "plt.gca().add_patch(t1)\n",
    "\n",
    "si = sort_points(x, C)\n",
    "\n",
    "plt.scatter(x=[si[0][0]], y=[si[0][1]])\n"
   ]
  },
  {
   "cell_type": "code",
   "execution_count": 1493,
   "metadata": {},
   "outputs": [
    {
     "data": {
      "text/plain": [
       "[(array([0.16956517, 0.88345505]), array([0.51762495, 0.95632341]))]"
      ]
     },
     "execution_count": 1493,
     "metadata": {},
     "output_type": "execute_result"
    }
   ],
   "source": [
    "# Find visible edges from point o\n",
    "# https://math.stackexchange.com/a/1743061\n",
    "\n",
    "o = si[0]\n",
    "tri = triangles[0]\n",
    "\n",
    "angles = np.array([angle(x,o) for x in tri])\n",
    "\n",
    "# If the triangle collides with the positive x-axis from the point - rotate 90 degrees to\n",
    "if np.array([270 < x or x < 180 for x in angles]).all():\n",
    "    angles += 90\n",
    "    angles %= 360\n",
    "\n",
    "i = np.argmax(angles)\n",
    "max_angle = np.max(angles)\n",
    "min_angle = np.min(angles)\n",
    "\n",
    "edges = []\n",
    "while True:\n",
    "    edges.append((tri[i%3],tri[(i+1)%3]))\n",
    "    i += 1\n",
    "    if angles[i%3] == min_angle:\n",
    "        break"
   ]
  },
  {
   "cell_type": "code",
   "execution_count": 1494,
   "metadata": {},
   "outputs": [
    {
     "name": "stdout",
     "output_type": "stream",
     "text": [
      "[array([0.51762495, 0.95632341]), array([0.35177789, 0.99616756]), array([0.16956517, 0.88345505])]\n",
      "[42.426945130228944, 75.63090460494209, 130.73243239107126]\n",
      "[132.42694513022894, 165.6309046049421, 220.73243239107126]\n",
      "[(array([0.16956517, 0.88345505]), array([0.51762495, 0.95632341]))]\n"
     ]
    },
    {
     "data": {
      "image/png": "[encoded data removed]",
      "text/plain": [
       "<Figure size 720x720 with 1 Axes>"
      ]
     },
     "metadata": {
      "needs_background": "light"
     },
     "output_type": "display_data"
    }
   ],
   "source": [
    "plt.figure(figsize=[10, 10])\n",
    "plt.axes([0.1, 0.1, 0.8, 0.8], xlim=(0, 1), ylim=(0, 1))\n",
    "plt.scatter(x=x[:,0],y=x[:,1])\n",
    "plt.scatter(x=[x0[0]],y=[x0[1]],label=\"x0\")\n",
    "plt.scatter(x=[xj[0]],y=[xj[1]],label=\"xj\")\n",
    "plt.scatter(x=[xk[0]],y=[xk[1]],label=\"xk\")\n",
    "for edge in edges:\n",
    "    plt.plot([edge[0][0],edge[1][0]],[edge[0][1],edge[1][1]],\"g-\")\n",
    "plt.legend()\n",
    "\n",
    "points_whole_ax = 10 * 0.8 *72    # 1 point = dpi / 72 pixels\n",
    "R = np.linalg.norm(x0-C)\n",
    "points_radius = 2 * R / 1.0 * points_whole_ax\n",
    "plt.scatter(C[0], C[1], s=points_radius**2, facecolors='none', edgecolors='blue')\n",
    "t1 = plt.Polygon(triangles[0],fill=False)\n",
    "plt.gca().add_patch(t1)\n",
    "\n",
    "si = sort_points(x, C)\n",
    "\n",
    "plt.scatter(x=[si[0][0]], y=[si[0][1]])\n",
    "\n",
    "print(triangles[0])\n",
    "print([angle(x,si[0]) for x in triangles[0]])\n",
    "print([(angle(x,si[0])+90)%360 for x in triangles[0]])\n",
    "\n",
    "print(edges)"
   ]
  },
  {
   "cell_type": "code",
   "execution_count": 1495,
   "metadata": {},
   "outputs": [],
   "source": [
    "# add edges\n",
    "for edge in edges:\n",
    "    tri = sorted([edge[0],edge[1],o], key=lambda x: angle(x,C))\n",
    "    triangles.append(tri)"
   ]
  },
  {
   "cell_type": "code",
   "execution_count": 1496,
   "metadata": {},
   "outputs": [
    {
     "name": "stdout",
     "output_type": "stream",
     "text": [
      "[array([0.51762495, 0.95632341]), array([0.35177789, 0.99616756]), array([0.16956517, 0.88345505])]\n",
      "[42.426945130228944, 75.63090460494209, 130.73243239107126]\n",
      "[132.42694513022894, 165.6309046049421, 220.73243239107126]\n",
      "[(array([0.16956517, 0.88345505]), array([0.51762495, 0.95632341]))]\n"
     ]
    },
    {
     "data": {
      "image/png": "[encoded data removed]",
      "text/plain": [
       "<Figure size 720x720 with 1 Axes>"
      ]
     },
     "metadata": {
      "needs_background": "light"
     },
     "output_type": "display_data"
    }
   ],
   "source": [
    "plt.figure(figsize=[10, 10])\n",
    "plt.axes([0.1, 0.1, 0.8, 0.8], xlim=(0, 1), ylim=(0, 1))\n",
    "plt.scatter(x=x[:,0],y=x[:,1])\n",
    "plt.scatter(x=[x0[0]],y=[x0[1]],label=\"x0\")\n",
    "plt.scatter(x=[xj[0]],y=[xj[1]],label=\"xj\")\n",
    "plt.scatter(x=[xk[0]],y=[xk[1]],label=\"xk\")\n",
    "for edge in edges:\n",
    "    plt.plot([edge[0][0],edge[1][0]],[edge[0][1],edge[1][1]],\"g-\")\n",
    "plt.legend()\n",
    "\n",
    "points_whole_ax = 10 * 0.8 *72    # 1 point = dpi / 72 pixels\n",
    "R = np.linalg.norm(x0-C)\n",
    "points_radius = 2 * R / 1.0 * points_whole_ax\n",
    "plt.scatter(C[0], C[1], s=points_radius**2, facecolors='none', edgecolors='blue')\n",
    "for tri in triangles:\n",
    "    t1 = plt.Polygon(tri,fill=False)\n",
    "    plt.gca().add_patch(t1)\n",
    "\n",
    "si = sort_points(x, C)\n",
    "\n",
    "plt.scatter(x=[si[0][0]], y=[si[0][1]])\n",
    "\n",
    "print(triangles[0])\n",
    "print([angle(x,si[0]) for x in triangles[0]])\n",
    "print([(angle(x,si[0])+90)%360 for x in triangles[0]])\n",
    "\n",
    "print(edges)"
   ]
  },
  {
   "cell_type": "code",
   "execution_count": 1503,
   "metadata": {},
   "outputs": [],
   "source": [
    "#https://stackoverflow.com/a/10984080\n",
    "\n",
    "# Get distance to edge from every point\n",
    "\n",
    "min_dist = np.inf\n",
    "e_index_min_dist = None\n",
    "p_index_min_dist = None\n",
    "\n",
    "for i, edge in enumerate(edges):\n",
    "\n",
    "    for j, (px, py) in enumerate(x):\n",
    "        p0 = np.array([px,py])\n",
    "        p1 = np.array(edge[0])\n",
    "        p2 = np.array(edge[1])\n",
    "\n",
    "        r = np.dot(p2 - p1, p0 - p1)\n",
    "        r /= norm(p2 - p1)**2\n",
    "        \n",
    "        if r < 0:\n",
    "            dist = norm(p0 - p1)\n",
    "        elif 1 < r:\n",
    "            dist = norm(p2 - p0)\n",
    "        else:\n",
    "            dist = np.sqrt(norm(p0 - p1)**2 - (r*norm(p2 - p1))**2)\n",
    "        \n",
    "        if dist < min_dist:\n",
    "            min_dist = dist\n",
    "            e_index_min_dist = i\n",
    "            p_index_min_dist = j"
   ]
  },
  {
   "cell_type": "code",
   "execution_count": 1501,
   "metadata": {},
   "outputs": [
    {
     "data": {
      "image/png": "[encoded data removed]",
      "text/plain": [
       "<Figure size 360x360 with 1 Axes>"
      ]
     },
     "metadata": {
      "needs_background": "light"
     },
     "output_type": "display_data"
    }
   ],
   "source": [
    "\n",
    "edge = np.array(edges[0])\n",
    "\n",
    "plt.figure(figsize=[5, 5])\n",
    "plt.axes([0.1, 0.1, 0.8, 0.8], xlim=(0, 1), ylim=(0, 1))\n",
    "plt.scatter(x=x[:,0],y=x[:,1])\n",
    "\n",
    "for i, txt in enumerate(dists):\n",
    "    plt.annotate(round(txt,2), (x[i,0],x[i,1]))\n",
    "\n",
    "plt.plot(edge[:,0],edge[:,1],\"r-\")\n",
    "\n",
    "plt.show()"
   ]
  },
  {
   "cell_type": "code",
   "execution_count": 1506,
   "metadata": {},
   "outputs": [
    {
     "name": "stdout",
     "output_type": "stream",
     "text": [
      "[0.54467961 0.9028204 ] (array([0.16956517, 0.88345505]), array([0.51762495, 0.95632341])) 0.05995436873526559\n"
     ]
    }
   ],
   "source": [
    "print(x[p_index_min_dist],edges[e_index_min_dist],min_dist)"
   ]
  },
  {
   "cell_type": "code",
   "execution_count": null,
   "metadata": {},
   "outputs": [],
   "source": []
  },
  {
   "cell_type": "code",
   "execution_count": null,
   "metadata": {},
   "outputs": [],
   "source": []
  },
  {
   "cell_type": "code",
   "execution_count": null,
   "metadata": {},
   "outputs": [],
   "source": []
  },
  {
   "cell_type": "code",
   "execution_count": null,
   "metadata": {},
   "outputs": [],
   "source": []
  },
  {
   "cell_type": "code",
   "execution_count": null,
   "metadata": {},
   "outputs": [],
   "source": []
  }
 ],
 "metadata": {
  "interpreter": {
   "hash": "c6e4e9f98eb68ad3b7c296f83d20e6de614cb42e90992a65aa266555a3137d0d"
  },
  "kernelspec": {
   "display_name": "Python 3.9.6",
   "language": "python",
   "name": "python3"
  },
  "language_info": {
   "codemirror_mode": {
    "name": "ipython",
    "version": 3
   },
   "file_extension": ".py",
   "mimetype": "text/x-python",
   "name": "python",
   "nbconvert_exporter": "python",
   "pygments_lexer": "ipython3",
   "version": "3.9.6"
  },
  "orig_nbformat": 4
 },
 "nbformat": 4,
 "nbformat_minor": 2
}
