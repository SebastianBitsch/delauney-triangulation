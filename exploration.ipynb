{
 "cells": [
  {
   "cell_type": "code",
   "execution_count": 690,
   "metadata": {},
   "outputs": [],
   "source": [
    "import numpy as np\n",
    "import matplotlib.pyplot as plt"
   ]
  },
  {
   "cell_type": "code",
   "execution_count": 691,
   "metadata": {},
   "outputs": [],
   "source": [
    "N = 20"
   ]
  },
  {
   "cell_type": "code",
   "execution_count": 692,
   "metadata": {},
   "outputs": [],
   "source": [
    "x = np.random.rand(N,2)"
   ]
  },
  {
   "cell_type": "code",
   "execution_count": 693,
   "metadata": {},
   "outputs": [
    {
     "data": {
      "text/plain": [
       "<matplotlib.collections.PathCollection at 0x1273cea60>"
      ]
     },
     "execution_count": 693,
     "metadata": {},
     "output_type": "execute_result"
    },
    {
     "data": {
      "image/png": "[encoded data removed]",
      "text/plain": [
       "<Figure size 432x288 with 1 Axes>"
      ]
     },
     "metadata": {
      "needs_background": "light"
     },
     "output_type": "display_data"
    }
   ],
   "source": [
    "plt.scatter(x[:,0],x[:,1])"
   ]
  },
  {
   "cell_type": "code",
   "execution_count": null,
   "metadata": {},
   "outputs": [],
   "source": []
  },
  {
   "cell_type": "code",
   "execution_count": 694,
   "metadata": {},
   "outputs": [],
   "source": [
    "def sort_points(x: list[list], x0: list):\n",
    "    \"\"\" Sort points by distance to a seed point x0, by the second order euclidean dist |xi - x0|**2\"\"\"\n",
    "    return sorted(x, key=lambda xi: np.linalg.norm(xi-x0,2))"
   ]
  },
  {
   "cell_type": "code",
   "execution_count": 695,
   "metadata": {},
   "outputs": [],
   "source": [
    "x0 = x[0]\n",
    "x = np.delete(x,0,0)\n",
    "\n",
    "# Find the closest point to x0\n",
    "x = sort_points(x,x0)\n",
    "\n",
    "# \n",
    "xj = x[1]\n",
    "x = np.delete(x,1,0)"
   ]
  },
  {
   "cell_type": "code",
   "execution_count": 696,
   "metadata": {},
   "outputs": [],
   "source": [
    "def circle_center(A,B,C) -> list[float]:\n",
    "    D = 2*(A[0]*(B[1]-C[1]) + B[0]*(C[1]-A[1]) + C[0]*(A[1]-B[1]))\n",
    "    Ux = (A[0]**2+A[1]**2)*(B[1]-C[1])+(B[0]**2+B[1]**2)*(C[1]-A[1])+(C[0]**2+C[1]**2)*(A[1]-B[1])\n",
    "    Uy = (A[0]**2+A[1]**2)*(C[0]-B[0])+(B[0]**2+B[1]**2)*(A[0]-C[0])+(C[0]**2+C[1]**2)*(B[0]-A[0])\n",
    "    return np.array([Ux/D,Uy/D])"
   ]
  },
  {
   "cell_type": "code",
   "execution_count": 697,
   "metadata": {},
   "outputs": [],
   "source": [
    "A_min = np.Infinity\n",
    "A_min_index = None\n",
    "\n",
    "for i, xk in enumerate(x):\n",
    "    a = np.linalg.norm(xk - x0)\n",
    "    b = np.linalg.norm(x0 - xj)\n",
    "    c = np.linalg.norm(xj - x0)\n",
    "    s = (a+b+c) * 0.5\n",
    "    A = np.pi * 0.25 * s**2\n",
    "    if A < A_min:\n",
    "        A_min = A\n",
    "        A_min_index = i\n",
    "\n",
    "xk = x[A_min_index]\n",
    "x = np.delete(x, A_min_index, 0)\n",
    "C = circle_center(x0,xj,xk)"
   ]
  },
  {
   "cell_type": "markdown",
   "metadata": {},
   "source": [
    "### Visualize / check everything is working"
   ]
  },
  {
   "cell_type": "code",
   "execution_count": 698,
   "metadata": {},
   "outputs": [
    {
     "data": {
      "text/plain": [
       "<matplotlib.collections.PathCollection at 0x12742b4f0>"
      ]
     },
     "execution_count": 698,
     "metadata": {},
     "output_type": "execute_result"
    },
    {
     "data": {
      "image/png": "[encoded data removed]",
      "text/plain": [
       "<Figure size 360x360 with 1 Axes>"
      ]
     },
     "metadata": {
      "needs_background": "light"
     },
     "output_type": "display_data"
    }
   ],
   "source": [
    "plt.figure(figsize=[5, 5])\n",
    "plt.axes([0.1, 0.1, 0.8, 0.8], xlim=(0, 1), ylim=(0, 1))\n",
    "plt.scatter(x=x[:,0],y=x[:,1])\n",
    "plt.scatter(x=[xj[0],x0[0]],y=[xj[1],x0[1]])\n",
    "\n",
    "points_whole_ax = 5 * 0.8 *72    # 1 point = dpi / 72 pixels\n",
    "R = np.linalg.norm(x0-C)\n",
    "points_radius = 2 * R / 1.0 * points_whole_ax\n",
    "plt.scatter(C[0], C[1], s=points_radius**2, facecolors='none', edgecolors='blue')\n"
   ]
  },
  {
   "cell_type": "code",
   "execution_count": 700,
   "metadata": {},
   "outputs": [],
   "source": [
    "def angle(point: list[float], center: list[float]) -> float:\n",
    "    \"\"\" Returns the angle in degrees between a point and a center\"\"\"\n",
    "    return (np.arctan2(center[0]-point[0], center[1]-point[1])+np.pi) * 180 / np.pi"
   ]
  },
  {
   "cell_type": "code",
   "execution_count": 701,
   "metadata": {},
   "outputs": [],
   "source": [
    "# Test sorting\n",
    "# p = [[0,0],[1,0],[2,0],[2,1],[2,2],[1,2],[0,2],[0,1]]\n",
    "# sorted(p, key=lambda x: angle(x,[1,1]))\n",
    "# for i in [[0,0],[1,0],[2,0],[2,1],[2,2],[1,2],[0,2],[0,1]]:\n",
    "#     print(angle(i,[1,1]))"
   ]
  },
  {
   "cell_type": "code",
   "execution_count": 704,
   "metadata": {},
   "outputs": [
    {
     "data": {
      "text/plain": [
       "<matplotlib.collections.PathCollection at 0x12748e250>"
      ]
     },
     "execution_count": 704,
     "metadata": {},
     "output_type": "execute_result"
    },
    {
     "data": {
      "image/png": "[encoded data removed]",
      "text/plain": [
       "<Figure size 360x360 with 1 Axes>"
      ]
     },
     "metadata": {
      "needs_background": "light"
     },
     "output_type": "display_data"
    }
   ],
   "source": [
    "plt.figure(figsize=[5, 5])\n",
    "plt.axes([0.1, 0.1, 0.8, 0.8], xlim=(0, 1), ylim=(0, 1))\n",
    "plt.scatter(x=x[:,0],y=x[:,1])\n",
    "plt.scatter(x=[xj[0],x0[0]],y=[xj[1],x0[1]])\n",
    "\n",
    "points_whole_ax = 5 * 0.8 *72    # 1 point = dpi / 72 pixels\n",
    "R = np.linalg.norm(x0-C)\n",
    "points_radius = 2 * R / 1.0 * points_whole_ax\n",
    "plt.scatter(C[0], C[1], s=points_radius**2, facecolors='none', edgecolors='blue')\n",
    "\n",
    "si = sort_points(x, C)\n",
    "\n",
    "plt.scatter(x=[si[0][0]], y=[si[0][1]])\n"
   ]
  },
  {
   "cell_type": "code",
   "execution_count": null,
   "metadata": {},
   "outputs": [],
   "source": []
  },
  {
   "cell_type": "code",
   "execution_count": null,
   "metadata": {},
   "outputs": [],
   "source": []
  },
  {
   "cell_type": "code",
   "execution_count": null,
   "metadata": {},
   "outputs": [],
   "source": []
  },
  {
   "cell_type": "code",
   "execution_count": null,
   "metadata": {},
   "outputs": [],
   "source": []
  },
  {
   "cell_type": "code",
   "execution_count": null,
   "metadata": {},
   "outputs": [],
   "source": []
  },
  {
   "cell_type": "code",
   "execution_count": null,
   "metadata": {},
   "outputs": [],
   "source": []
  }
 ],
 "metadata": {
  "interpreter": {
   "hash": "c6e4e9f98eb68ad3b7c296f83d20e6de614cb42e90992a65aa266555a3137d0d"
  },
  "kernelspec": {
   "display_name": "Python 3.9.6",
   "language": "python",
   "name": "python3"
  },
  "language_info": {
   "codemirror_mode": {
    "name": "ipython",
    "version": 3
   },
   "file_extension": ".py",
   "mimetype": "text/x-python",
   "name": "python",
   "nbconvert_exporter": "python",
   "pygments_lexer": "ipython3",
   "version": "3.9.6"
  },
  "orig_nbformat": 4
 },
 "nbformat": 4,
 "nbformat_minor": 2
}
