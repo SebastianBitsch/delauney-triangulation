{
 "cells": [
  {
   "cell_type": "code",
   "execution_count": 326,
   "metadata": {},
   "outputs": [],
   "source": [
    "import numpy as np\n",
    "import matplotlib.pyplot as plt"
   ]
  },
  {
   "cell_type": "markdown",
   "metadata": {},
   "source": [
    "#### 0. Initialize"
   ]
  },
  {
   "cell_type": "code",
   "execution_count": 327,
   "metadata": {},
   "outputs": [],
   "source": [
    "N = 20\n",
    "x = np.random.rand(N,2)"
   ]
  },
  {
   "cell_type": "code",
   "execution_count": 328,
   "metadata": {},
   "outputs": [
    {
     "data": {
      "text/plain": [
       "<matplotlib.collections.PathCollection at 0x1369d3610>"
      ]
     },
     "execution_count": 328,
     "metadata": {},
     "output_type": "execute_result"
    },
    {
     "data": {
      "image/png": "[encoded data removed]",
      "text/plain": [
       "<Figure size 432x288 with 1 Axes>"
      ]
     },
     "metadata": {
      "needs_background": "light"
     },
     "output_type": "display_data"
    }
   ],
   "source": [
    "plt.scatter(x[:,0],x[:,1])"
   ]
  },
  {
   "cell_type": "code",
   "execution_count": 329,
   "metadata": {},
   "outputs": [],
   "source": [
    "def sort_points(x: list[list], x0: list):\n",
    "    \"\"\" Sort points by distance to a seed point x0, by the second order euclidean dist |xi - x0|**2\"\"\"\n",
    "    return sorted(x, key=lambda xi: np.linalg.norm(xi-x0,2))"
   ]
  },
  {
   "cell_type": "code",
   "execution_count": 330,
   "metadata": {},
   "outputs": [],
   "source": [
    "def circle_center(A,B,C) -> list[float]:\n",
    "    D = 2*(A[0]*(B[1]-C[1]) + B[0]*(C[1]-A[1]) + C[0]*(A[1]-B[1]))\n",
    "    Ux = (A[0]**2+A[1]**2)*(B[1]-C[1])+(B[0]**2+B[1]**2)*(C[1]-A[1])+(C[0]**2+C[1]**2)*(A[1]-B[1])\n",
    "    Uy = (A[0]**2+A[1]**2)*(C[0]-B[0])+(B[0]**2+B[1]**2)*(A[0]-C[0])+(C[0]**2+C[1]**2)*(B[0]-A[0])\n",
    "    return np.array([Ux/D,Uy/D])"
   ]
  },
  {
   "cell_type": "code",
   "execution_count": 331,
   "metadata": {},
   "outputs": [],
   "source": [
    "def angle(point: list[float], center: list[float]) -> float:\n",
    "    \"\"\" Returns the angle in degrees between a point and a center\"\"\"\n",
    "    return (np.arctan2(point[1]-center[1], point[0]-center[0]) * 180/np.pi + 360) % 360"
   ]
  },
  {
   "cell_type": "markdown",
   "metadata": {},
   "source": [
    "#### 1. Select a seed point"
   ]
  },
  {
   "cell_type": "code",
   "execution_count": 332,
   "metadata": {},
   "outputs": [],
   "source": [
    "x0 = x[0]\n",
    "x = np.delete(x,0,0)"
   ]
  },
  {
   "cell_type": "markdown",
   "metadata": {},
   "source": [
    "#### 2. Sort accoring to |xi - x0|^2"
   ]
  },
  {
   "cell_type": "code",
   "execution_count": 333,
   "metadata": {},
   "outputs": [],
   "source": [
    "# Find the closest point to x0\n",
    "x = sort_points(x,x0)"
   ]
  },
  {
   "cell_type": "markdown",
   "metadata": {},
   "source": [
    "#### 3. Find the point xj cloests to x0"
   ]
  },
  {
   "cell_type": "code",
   "execution_count": 334,
   "metadata": {},
   "outputs": [],
   "source": [
    "# closest point\n",
    "xj = x[0]\n",
    "x = np.delete(x,0,0)"
   ]
  },
  {
   "cell_type": "markdown",
   "metadata": {},
   "source": [
    "#### 4. Find the point xk that creates the smallest circum-circle with x0 and xj and record the cetner of the circum-circle C"
   ]
  },
  {
   "cell_type": "code",
   "execution_count": 335,
   "metadata": {},
   "outputs": [],
   "source": [
    "# Running variables\n",
    "A_min = np.Infinity\n",
    "A_min_index = None\n",
    "\n",
    "# Loop through all points\n",
    "for i, xk in enumerate(x):\n",
    "    a = np.linalg.norm(xk - x0)\n",
    "    b = np.linalg.norm(x0 - xj)\n",
    "    c = np.linalg.norm(xj - x0)\n",
    "    s = (a+b+c) * 0.5\n",
    "    A = (np.pi * 0.25) * s**2\n",
    "    if A < A_min:\n",
    "        A_min = A\n",
    "        A_min_index = i\n",
    "\n",
    "\n",
    "# Update x and declare xk and C\n",
    "xk = x[A_min_index]\n",
    "x = np.delete(x, A_min_index, 0)\n",
    "C = circle_center(x0,xj,xk)"
   ]
  },
  {
   "cell_type": "markdown",
   "metadata": {},
   "source": [
    "#### 4.1 Visualize / check everything is working"
   ]
  },
  {
   "cell_type": "code",
   "execution_count": 336,
   "metadata": {},
   "outputs": [
    {
     "data": {
      "text/plain": [
       "<matplotlib.collections.PathCollection at 0x136a4d4c0>"
      ]
     },
     "execution_count": 336,
     "metadata": {},
     "output_type": "execute_result"
    },
    {
     "data": {
      "image/png": "[encoded data removed]",
      "text/plain": [
       "<Figure size 360x360 with 1 Axes>"
      ]
     },
     "metadata": {
      "needs_background": "light"
     },
     "output_type": "display_data"
    }
   ],
   "source": [
    "plt.figure(figsize=[5, 5])\n",
    "plt.axes([0.1, 0.1, 0.8, 0.8], xlim=(0, 1), ylim=(0, 1))\n",
    "plt.scatter(x=x[:,0],y=x[:,1])\n",
    "plt.scatter(x=[x0[0]],y=[x0[1]],label=\"x0\")\n",
    "plt.scatter(x=[xj[0]],y=[xj[1]],label=\"xj\")\n",
    "plt.scatter(x=[xk[0]],y=[xk[1]],label=\"xk\")\n",
    "plt.legend()\n",
    "\n",
    "points_whole_ax = 5 * 0.8 *72    # 1 point = dpi / 72 pixels\n",
    "R = np.linalg.norm(x0-C)\n",
    "points_radius = 2 * R / 1.0 * points_whole_ax\n",
    "plt.scatter(C[0], C[1], s=points_radius**2, facecolors='none', edgecolors='blue')\n"
   ]
  },
  {
   "cell_type": "markdown",
   "metadata": {},
   "source": [
    "#### 5. Order points [x0, xj, xk] to give a right handed system: this is the initial seed convex hull"
   ]
  },
  {
   "cell_type": "code",
   "execution_count": 337,
   "metadata": {},
   "outputs": [],
   "source": [
    "triangles = []\n",
    "t = sorted([x0,xk,xj], key=lambda x: angle(x,C))\n",
    "triangles.append(t)"
   ]
  },
  {
   "cell_type": "markdown",
   "metadata": {},
   "source": [
    "#### 6. Resort the remaining points according to |xi - C|^2 to give points si"
   ]
  },
  {
   "cell_type": "code",
   "execution_count": 338,
   "metadata": {},
   "outputs": [],
   "source": [
    "# Find the closest point to C\n",
    "si = sort_points(x,C)"
   ]
  },
  {
   "cell_type": "markdown",
   "metadata": {},
   "source": [
    "#### 7. Sequentially add the points si to the propogating 2D convex hull that is seeded with the triangle formed from [x0, xj, xk]. As a new point is added the faces of the 2D-that are visible to it form a a new triangles"
   ]
  },
  {
   "cell_type": "code",
   "execution_count": 339,
   "metadata": {},
   "outputs": [
    {
     "name": "stdout",
     "output_type": "stream",
     "text": [
      "[array([0.78847662, 0.51852247]), array([0.86481925, 0.49693252]), array([0.94561076, 0.5194103 ])]\n",
      "[258.51333699696613, 278.5778209895873, 299.2664264814895]\n"
     ]
    },
    {
     "data": {
      "image/png": "[encoded data removed]",
      "text/plain": [
       "<Figure size 360x360 with 1 Axes>"
      ]
     },
     "metadata": {
      "needs_background": "light"
     },
     "output_type": "display_data"
    }
   ],
   "source": [
    "plt.figure(figsize=[5, 5])\n",
    "plt.axes([0.1, 0.1, 0.8, 0.8], xlim=(0, 1), ylim=(0, 1))\n",
    "plt.scatter(x=x[:,0],y=x[:,1])\n",
    "plt.scatter(x=[x0[0]],y=[x0[1]],label=\"x0\")\n",
    "plt.scatter(x=[xj[0]],y=[xj[1]],label=\"xj\")\n",
    "plt.scatter(x=[xk[0]],y=[xk[1]],label=\"xk\")\n",
    "plt.legend()\n",
    "\n",
    "points_whole_ax = 5 * 0.8 *72    # 1 point = dpi / 72 pixels\n",
    "R = np.linalg.norm(x0-C)\n",
    "points_radius = 2 * R / 1.0 * points_whole_ax\n",
    "plt.scatter(C[0], C[1], s=points_radius**2, facecolors='none', edgecolors='blue')\n",
    "t1 = plt.Polygon(triangles[0],fill=False)\n",
    "plt.gca().add_patch(t1)\n",
    "\n",
    "si = sort_points(x, C)\n",
    "\n",
    "plt.scatter(x=[si[0][0]], y=[si[0][1]])\n",
    "\n",
    "print(triangles[0])\n",
    "print([angle(x,si[0]) for x in triangles[0]])"
   ]
  },
  {
   "cell_type": "code",
   "execution_count": 340,
   "metadata": {},
   "outputs": [],
   "source": [
    "# https://math.stackexchange.com/a/1743061"
   ]
  },
  {
   "cell_type": "code",
   "execution_count": null,
   "metadata": {},
   "outputs": [],
   "source": []
  },
  {
   "cell_type": "code",
   "execution_count": null,
   "metadata": {},
   "outputs": [],
   "source": []
  },
  {
   "cell_type": "code",
   "execution_count": null,
   "metadata": {},
   "outputs": [],
   "source": []
  },
  {
   "cell_type": "code",
   "execution_count": null,
   "metadata": {},
   "outputs": [],
   "source": []
  },
  {
   "cell_type": "code",
   "execution_count": null,
   "metadata": {},
   "outputs": [],
   "source": []
  }
 ],
 "metadata": {
  "interpreter": {
   "hash": "c6e4e9f98eb68ad3b7c296f83d20e6de614cb42e90992a65aa266555a3137d0d"
  },
  "kernelspec": {
   "display_name": "Python 3.9.6",
   "language": "python",
   "name": "python3"
  },
  "language_info": {
   "codemirror_mode": {
    "name": "ipython",
    "version": 3
   },
   "file_extension": ".py",
   "mimetype": "text/x-python",
   "name": "python",
   "nbconvert_exporter": "python",
   "pygments_lexer": "ipython3",
   "version": "3.9.6"
  },
  "orig_nbformat": 4
 },
 "nbformat": 4,
 "nbformat_minor": 2
}
